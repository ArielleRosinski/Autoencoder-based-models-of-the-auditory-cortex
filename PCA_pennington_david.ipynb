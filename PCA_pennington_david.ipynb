{
 "cells": [
  {
   "cell_type": "code",
   "execution_count": 1,
   "metadata": {},
   "outputs": [],
   "source": [
    "import pycochleagram.cochleagram as cgram\n",
    "from pycochleagram import utils\n",
    "\n",
    "import json\n",
    "import sys\n",
    "import os \n",
    "from os import listdir\n",
    "\n",
    "import matplotlib.pyplot as plt\n",
    "import numpy as np\n",
    "import pandas as pd\n",
    "\n",
    "from sklearn.model_selection import KFold\n",
    "from sklearn.linear_model import ElasticNetCV, LinearRegression, RidgeCV\n",
    "from sklearn.metrics import r2_score\n",
    "from sklearn.decomposition import PCA\n",
    "\n",
    "import torch\n",
    "import torch.nn as nn\n",
    "import torch.optim as optim\n",
    "from torch.utils.data import Dataset,DataLoader\n",
    "from torchvision import transforms\n",
    "\n",
    "from helper_functions import *\n"
   ]
  },
  {
   "cell_type": "code",
   "execution_count": 2,
   "metadata": {},
   "outputs": [],
   "source": [
    "path=\"/Users/ariellerosinski/My Drive/UCL/MSc/Project/Code/full_coch\"\n",
    "\n",
    "sound_files=listdir(path)\n",
    "\n",
    "file_name=[]\n",
    "files=[]\n",
    "for file in sound_files:\n",
    "    if file.endswith(\".npy\") and file.startswith(\"full\"):\n",
    "        file_name.append(file)\n",
    "        full_path=[path,file]\n",
    "        full_path=\"/\".join(full_path)\n",
    "        files.append(full_path)\n",
    "\n",
    "\n",
    "k_folds=5\n",
    "kfold = KFold(n_splits=k_folds, shuffle=False) \n",
    "foldid=0\n",
    "split_size = 30\n",
    "\n",
    "train_data=get_windows(files, kfold, foldid, file_name, split_size=split_size, norm=True, training=True)[0]\n",
    "\n",
    "\n",
    "all_data_temp=np.stack(train_data)\n",
    "all_data = np.reshape(all_data_temp, (all_data_temp.shape[0], -1)) \n",
    "\n",
    "feat_cols = ['bin'+str(i) for i in range(all_data.shape[1])]\n",
    "df_coch = pd.DataFrame(all_data,columns=feat_cols)\n",
    "\n",
    "pca_coch = PCA() \n",
    "pca_coch.fit(df_coch.iloc[:,:])\n",
    "\n",
    "PC_cols = ['PC'+str(i) for i in range(pca_coch.components_.shape[1])]\n",
    "principal_coch_Df = pd.DataFrame(pca_coch.components_, columns = PC_cols)\n",
    "\n",
    "PCs = principal_coch_Df.to_numpy().reshape(-1,81,split_size)\n",
    "np.save(\"/path to saved PCs \", PCs)"
   ]
  }
 ],
 "metadata": {
  "kernelspec": {
   "display_name": "env_msc_project",
   "language": "python",
   "name": "python3"
  },
  "language_info": {
   "codemirror_mode": {
    "name": "ipython",
    "version": 3
   },
   "file_extension": ".py",
   "mimetype": "text/x-python",
   "name": "python",
   "nbconvert_exporter": "python",
   "pygments_lexer": "ipython3",
   "version": "3.11.3"
  }
 },
 "nbformat": 4,
 "nbformat_minor": 2
}
